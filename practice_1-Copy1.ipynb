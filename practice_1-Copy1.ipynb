{
 "cells": [
  {
   "cell_type": "code",
   "execution_count": 1,
   "id": "a5648289",
   "metadata": {},
   "outputs": [],
   "source": [
    "people={\n",
    "    \"First\": [\"corey\",\"jane\",\"John\"],\n",
    "    \"Last\":[\"Schefer\",\"Fernandis\",\"Mathai\"],\n",
    "    \"Age\":[67,87,90],\n",
    "    \"Email\":[\"coreyshefer@gmail.com\",\"Janefr@gmail.com\",\"johnmathai@gmail.com\"]\n",
    "}"
   ]
  },
  {
   "cell_type": "code",
   "execution_count": 2,
   "id": "2d44ac3e",
   "metadata": {},
   "outputs": [
    {
     "data": {
      "text/plain": [
       "{'First': ['corey', 'jane', 'John'],\n",
       " 'Last': ['Schefer', 'Fernandis', 'Mathai'],\n",
       " 'Age': [67, 87, 90],\n",
       " 'Email': ['coreyshefer@gmail.com',\n",
       "  'Janefr@gmail.com',\n",
       "  'johnmathai@gmail.com']}"
      ]
     },
     "execution_count": 2,
     "metadata": {},
     "output_type": "execute_result"
    }
   ],
   "source": [
    "people"
   ]
  },
  {
   "cell_type": "code",
   "execution_count": 3,
   "id": "0c538d25",
   "metadata": {},
   "outputs": [],
   "source": [
    "import pandas as pd"
   ]
  },
  {
   "cell_type": "code",
   "execution_count": 4,
   "id": "c9d0a1bb",
   "metadata": {},
   "outputs": [],
   "source": [
    "df=pd.DataFrame(people)"
   ]
  },
  {
   "cell_type": "code",
   "execution_count": 5,
   "id": "e284c74e",
   "metadata": {},
   "outputs": [
    {
     "data": {
      "text/html": [
       "<div>\n",
       "<style scoped>\n",
       "    .dataframe tbody tr th:only-of-type {\n",
       "        vertical-align: middle;\n",
       "    }\n",
       "\n",
       "    .dataframe tbody tr th {\n",
       "        vertical-align: top;\n",
       "    }\n",
       "\n",
       "    .dataframe thead th {\n",
       "        text-align: right;\n",
       "    }\n",
       "</style>\n",
       "<table border=\"1\" class=\"dataframe\">\n",
       "  <thead>\n",
       "    <tr style=\"text-align: right;\">\n",
       "      <th></th>\n",
       "      <th>First</th>\n",
       "      <th>Last</th>\n",
       "      <th>Age</th>\n",
       "      <th>Email</th>\n",
       "    </tr>\n",
       "  </thead>\n",
       "  <tbody>\n",
       "    <tr>\n",
       "      <th>0</th>\n",
       "      <td>corey</td>\n",
       "      <td>Schefer</td>\n",
       "      <td>67</td>\n",
       "      <td>coreyshefer@gmail.com</td>\n",
       "    </tr>\n",
       "    <tr>\n",
       "      <th>1</th>\n",
       "      <td>jane</td>\n",
       "      <td>Fernandis</td>\n",
       "      <td>87</td>\n",
       "      <td>Janefr@gmail.com</td>\n",
       "    </tr>\n",
       "    <tr>\n",
       "      <th>2</th>\n",
       "      <td>John</td>\n",
       "      <td>Mathai</td>\n",
       "      <td>90</td>\n",
       "      <td>johnmathai@gmail.com</td>\n",
       "    </tr>\n",
       "  </tbody>\n",
       "</table>\n",
       "</div>"
      ],
      "text/plain": [
       "   First       Last  Age                  Email\n",
       "0  corey    Schefer   67  coreyshefer@gmail.com\n",
       "1   jane  Fernandis   87       Janefr@gmail.com\n",
       "2   John     Mathai   90   johnmathai@gmail.com"
      ]
     },
     "execution_count": 5,
     "metadata": {},
     "output_type": "execute_result"
    }
   ],
   "source": [
    "df"
   ]
  },
  {
   "cell_type": "code",
   "execution_count": 6,
   "id": "d707e42e",
   "metadata": {},
   "outputs": [
    {
     "data": {
      "text/plain": [
       "0     corey Schefer\n",
       "1    jane Fernandis\n",
       "2       John Mathai\n",
       "dtype: object"
      ]
     },
     "execution_count": 6,
     "metadata": {},
     "output_type": "execute_result"
    }
   ],
   "source": [
    "df[\"First\"]+\" \"+df[\"Last\"]"
   ]
  },
  {
   "cell_type": "code",
   "execution_count": 7,
   "id": "ebb8815a",
   "metadata": {},
   "outputs": [
    {
     "data": {
      "text/plain": [
       "0    corey coreyshefer@gmail.com\n",
       "1          jane Janefr@gmail.com\n",
       "2      John johnmathai@gmail.com\n",
       "dtype: object"
      ]
     },
     "execution_count": 7,
     "metadata": {},
     "output_type": "execute_result"
    }
   ],
   "source": [
    "df[\"First\"]+\" \"+df[\"Email\"]"
   ]
  },
  {
   "cell_type": "code",
   "execution_count": 8,
   "id": "53bb9b96",
   "metadata": {},
   "outputs": [
    {
     "data": {
      "text/plain": [
       "0     corey Schefer\n",
       "1    jane Fernandis\n",
       "2       John Mathai\n",
       "dtype: object"
      ]
     },
     "execution_count": 8,
     "metadata": {},
     "output_type": "execute_result"
    }
   ],
   "source": [
    "df[\"First\"]+\" \"+df[\"Last\"]"
   ]
  },
  {
   "cell_type": "code",
   "execution_count": 9,
   "id": "a066a4d3",
   "metadata": {},
   "outputs": [],
   "source": [
    "df[\"Full_Name\"]=df[\"First\"]+\" \"+df[\"Last\"]"
   ]
  },
  {
   "cell_type": "code",
   "execution_count": 10,
   "id": "2d70575a",
   "metadata": {},
   "outputs": [
    {
     "data": {
      "text/html": [
       "<div>\n",
       "<style scoped>\n",
       "    .dataframe tbody tr th:only-of-type {\n",
       "        vertical-align: middle;\n",
       "    }\n",
       "\n",
       "    .dataframe tbody tr th {\n",
       "        vertical-align: top;\n",
       "    }\n",
       "\n",
       "    .dataframe thead th {\n",
       "        text-align: right;\n",
       "    }\n",
       "</style>\n",
       "<table border=\"1\" class=\"dataframe\">\n",
       "  <thead>\n",
       "    <tr style=\"text-align: right;\">\n",
       "      <th></th>\n",
       "      <th>First</th>\n",
       "      <th>Last</th>\n",
       "      <th>Age</th>\n",
       "      <th>Email</th>\n",
       "      <th>Full_Name</th>\n",
       "    </tr>\n",
       "  </thead>\n",
       "  <tbody>\n",
       "    <tr>\n",
       "      <th>0</th>\n",
       "      <td>corey</td>\n",
       "      <td>Schefer</td>\n",
       "      <td>67</td>\n",
       "      <td>coreyshefer@gmail.com</td>\n",
       "      <td>corey Schefer</td>\n",
       "    </tr>\n",
       "    <tr>\n",
       "      <th>1</th>\n",
       "      <td>jane</td>\n",
       "      <td>Fernandis</td>\n",
       "      <td>87</td>\n",
       "      <td>Janefr@gmail.com</td>\n",
       "      <td>jane Fernandis</td>\n",
       "    </tr>\n",
       "    <tr>\n",
       "      <th>2</th>\n",
       "      <td>John</td>\n",
       "      <td>Mathai</td>\n",
       "      <td>90</td>\n",
       "      <td>johnmathai@gmail.com</td>\n",
       "      <td>John Mathai</td>\n",
       "    </tr>\n",
       "  </tbody>\n",
       "</table>\n",
       "</div>"
      ],
      "text/plain": [
       "   First       Last  Age                  Email       Full_Name\n",
       "0  corey    Schefer   67  coreyshefer@gmail.com   corey Schefer\n",
       "1   jane  Fernandis   87       Janefr@gmail.com  jane Fernandis\n",
       "2   John     Mathai   90   johnmathai@gmail.com     John Mathai"
      ]
     },
     "execution_count": 10,
     "metadata": {},
     "output_type": "execute_result"
    }
   ],
   "source": [
    "df"
   ]
  },
  {
   "cell_type": "code",
   "execution_count": 11,
   "id": "d66a2bca",
   "metadata": {},
   "outputs": [
    {
     "data": {
      "text/html": [
       "<div>\n",
       "<style scoped>\n",
       "    .dataframe tbody tr th:only-of-type {\n",
       "        vertical-align: middle;\n",
       "    }\n",
       "\n",
       "    .dataframe tbody tr th {\n",
       "        vertical-align: top;\n",
       "    }\n",
       "\n",
       "    .dataframe thead th {\n",
       "        text-align: right;\n",
       "    }\n",
       "</style>\n",
       "<table border=\"1\" class=\"dataframe\">\n",
       "  <thead>\n",
       "    <tr style=\"text-align: right;\">\n",
       "      <th></th>\n",
       "      <th>Age</th>\n",
       "      <th>Email</th>\n",
       "      <th>Full_Name</th>\n",
       "    </tr>\n",
       "  </thead>\n",
       "  <tbody>\n",
       "    <tr>\n",
       "      <th>0</th>\n",
       "      <td>67</td>\n",
       "      <td>coreyshefer@gmail.com</td>\n",
       "      <td>corey Schefer</td>\n",
       "    </tr>\n",
       "    <tr>\n",
       "      <th>1</th>\n",
       "      <td>87</td>\n",
       "      <td>Janefr@gmail.com</td>\n",
       "      <td>jane Fernandis</td>\n",
       "    </tr>\n",
       "    <tr>\n",
       "      <th>2</th>\n",
       "      <td>90</td>\n",
       "      <td>johnmathai@gmail.com</td>\n",
       "      <td>John Mathai</td>\n",
       "    </tr>\n",
       "  </tbody>\n",
       "</table>\n",
       "</div>"
      ],
      "text/plain": [
       "   Age                  Email       Full_Name\n",
       "0   67  coreyshefer@gmail.com   corey Schefer\n",
       "1   87       Janefr@gmail.com  jane Fernandis\n",
       "2   90   johnmathai@gmail.com     John Mathai"
      ]
     },
     "execution_count": 11,
     "metadata": {},
     "output_type": "execute_result"
    }
   ],
   "source": [
    "df.drop(columns=[\"First\",\"Last\"])"
   ]
  },
  {
   "cell_type": "code",
   "execution_count": 12,
   "id": "f9179221",
   "metadata": {},
   "outputs": [
    {
     "data": {
      "text/html": [
       "<div>\n",
       "<style scoped>\n",
       "    .dataframe tbody tr th:only-of-type {\n",
       "        vertical-align: middle;\n",
       "    }\n",
       "\n",
       "    .dataframe tbody tr th {\n",
       "        vertical-align: top;\n",
       "    }\n",
       "\n",
       "    .dataframe thead th {\n",
       "        text-align: right;\n",
       "    }\n",
       "</style>\n",
       "<table border=\"1\" class=\"dataframe\">\n",
       "  <thead>\n",
       "    <tr style=\"text-align: right;\">\n",
       "      <th></th>\n",
       "      <th>0</th>\n",
       "      <th>1</th>\n",
       "    </tr>\n",
       "  </thead>\n",
       "  <tbody>\n",
       "    <tr>\n",
       "      <th>0</th>\n",
       "      <td>corey</td>\n",
       "      <td>Schefer</td>\n",
       "    </tr>\n",
       "    <tr>\n",
       "      <th>1</th>\n",
       "      <td>jane</td>\n",
       "      <td>Fernandis</td>\n",
       "    </tr>\n",
       "    <tr>\n",
       "      <th>2</th>\n",
       "      <td>John</td>\n",
       "      <td>Mathai</td>\n",
       "    </tr>\n",
       "  </tbody>\n",
       "</table>\n",
       "</div>"
      ],
      "text/plain": [
       "       0          1\n",
       "0  corey    Schefer\n",
       "1   jane  Fernandis\n",
       "2   John     Mathai"
      ]
     },
     "execution_count": 12,
     "metadata": {},
     "output_type": "execute_result"
    }
   ],
   "source": [
    "df[\"Full_Name\"].str.split(\" \",expand=True)"
   ]
  },
  {
   "cell_type": "code",
   "execution_count": 13,
   "id": "25b45585",
   "metadata": {},
   "outputs": [],
   "source": [
    "df[[\"First\",\"Last\"]]=df[\"Full_Name\"].str.split(\" \",expand=True)"
   ]
  },
  {
   "cell_type": "code",
   "execution_count": 14,
   "id": "aba1eb80",
   "metadata": {},
   "outputs": [
    {
     "name": "stderr",
     "output_type": "stream",
     "text": [
      "C:\\Users\\Admin\\AppData\\Local\\Temp\\ipykernel_1352\\636096605.py:1: FutureWarning: The frame.append method is deprecated and will be removed from pandas in a future version. Use pandas.concat instead.\n",
      "  df.append({\"First\":\"Tony\",\"Last\":\"Bigrenja\"},ignore_index=True)\n"
     ]
    },
    {
     "data": {
      "text/html": [
       "<div>\n",
       "<style scoped>\n",
       "    .dataframe tbody tr th:only-of-type {\n",
       "        vertical-align: middle;\n",
       "    }\n",
       "\n",
       "    .dataframe tbody tr th {\n",
       "        vertical-align: top;\n",
       "    }\n",
       "\n",
       "    .dataframe thead th {\n",
       "        text-align: right;\n",
       "    }\n",
       "</style>\n",
       "<table border=\"1\" class=\"dataframe\">\n",
       "  <thead>\n",
       "    <tr style=\"text-align: right;\">\n",
       "      <th></th>\n",
       "      <th>First</th>\n",
       "      <th>Last</th>\n",
       "      <th>Age</th>\n",
       "      <th>Email</th>\n",
       "      <th>Full_Name</th>\n",
       "    </tr>\n",
       "  </thead>\n",
       "  <tbody>\n",
       "    <tr>\n",
       "      <th>0</th>\n",
       "      <td>corey</td>\n",
       "      <td>Schefer</td>\n",
       "      <td>67.0</td>\n",
       "      <td>coreyshefer@gmail.com</td>\n",
       "      <td>corey Schefer</td>\n",
       "    </tr>\n",
       "    <tr>\n",
       "      <th>1</th>\n",
       "      <td>jane</td>\n",
       "      <td>Fernandis</td>\n",
       "      <td>87.0</td>\n",
       "      <td>Janefr@gmail.com</td>\n",
       "      <td>jane Fernandis</td>\n",
       "    </tr>\n",
       "    <tr>\n",
       "      <th>2</th>\n",
       "      <td>John</td>\n",
       "      <td>Mathai</td>\n",
       "      <td>90.0</td>\n",
       "      <td>johnmathai@gmail.com</td>\n",
       "      <td>John Mathai</td>\n",
       "    </tr>\n",
       "    <tr>\n",
       "      <th>3</th>\n",
       "      <td>Tony</td>\n",
       "      <td>Bigrenja</td>\n",
       "      <td>NaN</td>\n",
       "      <td>NaN</td>\n",
       "      <td>NaN</td>\n",
       "    </tr>\n",
       "  </tbody>\n",
       "</table>\n",
       "</div>"
      ],
      "text/plain": [
       "   First       Last   Age                  Email       Full_Name\n",
       "0  corey    Schefer  67.0  coreyshefer@gmail.com   corey Schefer\n",
       "1   jane  Fernandis  87.0       Janefr@gmail.com  jane Fernandis\n",
       "2   John     Mathai  90.0   johnmathai@gmail.com     John Mathai\n",
       "3   Tony   Bigrenja   NaN                    NaN             NaN"
      ]
     },
     "execution_count": 14,
     "metadata": {},
     "output_type": "execute_result"
    }
   ],
   "source": [
    "df.append({\"First\":\"Tony\",\"Last\":\"Bigrenja\"},ignore_index=True)"
   ]
  },
  {
   "cell_type": "code",
   "execution_count": 15,
   "id": "a5872465",
   "metadata": {},
   "outputs": [],
   "source": [
    "people1={\n",
    "    \"First\": [\"Ram\",\"janeet\",\"Johny\"],\n",
    "    \"Last\":[\"Singh\",\"Feerdaus\",\"Mathaari\"],\n",
    "    \"Age\":[67,87,90],\n",
    "    \"Email\":[\"ram@gmail.com\",\"Janeeet@gmail.com\",\"johnmathari@gmail.com\"]\n",
    "}"
   ]
  },
  {
   "cell_type": "code",
   "execution_count": 16,
   "id": "fd92079e",
   "metadata": {},
   "outputs": [],
   "source": [
    "df2=pd.DataFrame(people1)"
   ]
  },
  {
   "cell_type": "code",
   "execution_count": 17,
   "id": "5f4d05c0",
   "metadata": {},
   "outputs": [
    {
     "data": {
      "text/html": [
       "<div>\n",
       "<style scoped>\n",
       "    .dataframe tbody tr th:only-of-type {\n",
       "        vertical-align: middle;\n",
       "    }\n",
       "\n",
       "    .dataframe tbody tr th {\n",
       "        vertical-align: top;\n",
       "    }\n",
       "\n",
       "    .dataframe thead th {\n",
       "        text-align: right;\n",
       "    }\n",
       "</style>\n",
       "<table border=\"1\" class=\"dataframe\">\n",
       "  <thead>\n",
       "    <tr style=\"text-align: right;\">\n",
       "      <th></th>\n",
       "      <th>First</th>\n",
       "      <th>Last</th>\n",
       "      <th>Age</th>\n",
       "      <th>Email</th>\n",
       "    </tr>\n",
       "  </thead>\n",
       "  <tbody>\n",
       "    <tr>\n",
       "      <th>0</th>\n",
       "      <td>Ram</td>\n",
       "      <td>Singh</td>\n",
       "      <td>67</td>\n",
       "      <td>ram@gmail.com</td>\n",
       "    </tr>\n",
       "    <tr>\n",
       "      <th>1</th>\n",
       "      <td>janeet</td>\n",
       "      <td>Feerdaus</td>\n",
       "      <td>87</td>\n",
       "      <td>Janeeet@gmail.com</td>\n",
       "    </tr>\n",
       "    <tr>\n",
       "      <th>2</th>\n",
       "      <td>Johny</td>\n",
       "      <td>Mathaari</td>\n",
       "      <td>90</td>\n",
       "      <td>johnmathari@gmail.com</td>\n",
       "    </tr>\n",
       "  </tbody>\n",
       "</table>\n",
       "</div>"
      ],
      "text/plain": [
       "    First      Last  Age                  Email\n",
       "0     Ram     Singh   67          ram@gmail.com\n",
       "1  janeet  Feerdaus   87      Janeeet@gmail.com\n",
       "2   Johny  Mathaari   90  johnmathari@gmail.com"
      ]
     },
     "execution_count": 17,
     "metadata": {},
     "output_type": "execute_result"
    }
   ],
   "source": [
    "df2"
   ]
  },
  {
   "cell_type": "code",
   "execution_count": 18,
   "id": "98f906c2",
   "metadata": {},
   "outputs": [
    {
     "name": "stderr",
     "output_type": "stream",
     "text": [
      "C:\\Users\\Admin\\AppData\\Local\\Temp\\ipykernel_1352\\2741153526.py:1: FutureWarning: The frame.append method is deprecated and will be removed from pandas in a future version. Use pandas.concat instead.\n",
      "  df.append(df2,ignore_index=True)\n"
     ]
    },
    {
     "data": {
      "text/html": [
       "<div>\n",
       "<style scoped>\n",
       "    .dataframe tbody tr th:only-of-type {\n",
       "        vertical-align: middle;\n",
       "    }\n",
       "\n",
       "    .dataframe tbody tr th {\n",
       "        vertical-align: top;\n",
       "    }\n",
       "\n",
       "    .dataframe thead th {\n",
       "        text-align: right;\n",
       "    }\n",
       "</style>\n",
       "<table border=\"1\" class=\"dataframe\">\n",
       "  <thead>\n",
       "    <tr style=\"text-align: right;\">\n",
       "      <th></th>\n",
       "      <th>First</th>\n",
       "      <th>Last</th>\n",
       "      <th>Age</th>\n",
       "      <th>Email</th>\n",
       "      <th>Full_Name</th>\n",
       "    </tr>\n",
       "  </thead>\n",
       "  <tbody>\n",
       "    <tr>\n",
       "      <th>0</th>\n",
       "      <td>corey</td>\n",
       "      <td>Schefer</td>\n",
       "      <td>67</td>\n",
       "      <td>coreyshefer@gmail.com</td>\n",
       "      <td>corey Schefer</td>\n",
       "    </tr>\n",
       "    <tr>\n",
       "      <th>1</th>\n",
       "      <td>jane</td>\n",
       "      <td>Fernandis</td>\n",
       "      <td>87</td>\n",
       "      <td>Janefr@gmail.com</td>\n",
       "      <td>jane Fernandis</td>\n",
       "    </tr>\n",
       "    <tr>\n",
       "      <th>2</th>\n",
       "      <td>John</td>\n",
       "      <td>Mathai</td>\n",
       "      <td>90</td>\n",
       "      <td>johnmathai@gmail.com</td>\n",
       "      <td>John Mathai</td>\n",
       "    </tr>\n",
       "    <tr>\n",
       "      <th>3</th>\n",
       "      <td>Ram</td>\n",
       "      <td>Singh</td>\n",
       "      <td>67</td>\n",
       "      <td>ram@gmail.com</td>\n",
       "      <td>NaN</td>\n",
       "    </tr>\n",
       "    <tr>\n",
       "      <th>4</th>\n",
       "      <td>janeet</td>\n",
       "      <td>Feerdaus</td>\n",
       "      <td>87</td>\n",
       "      <td>Janeeet@gmail.com</td>\n",
       "      <td>NaN</td>\n",
       "    </tr>\n",
       "    <tr>\n",
       "      <th>5</th>\n",
       "      <td>Johny</td>\n",
       "      <td>Mathaari</td>\n",
       "      <td>90</td>\n",
       "      <td>johnmathari@gmail.com</td>\n",
       "      <td>NaN</td>\n",
       "    </tr>\n",
       "  </tbody>\n",
       "</table>\n",
       "</div>"
      ],
      "text/plain": [
       "    First       Last  Age                  Email       Full_Name\n",
       "0   corey    Schefer   67  coreyshefer@gmail.com   corey Schefer\n",
       "1    jane  Fernandis   87       Janefr@gmail.com  jane Fernandis\n",
       "2    John     Mathai   90   johnmathai@gmail.com     John Mathai\n",
       "3     Ram      Singh   67          ram@gmail.com             NaN\n",
       "4  janeet   Feerdaus   87      Janeeet@gmail.com             NaN\n",
       "5   Johny   Mathaari   90  johnmathari@gmail.com             NaN"
      ]
     },
     "execution_count": 18,
     "metadata": {},
     "output_type": "execute_result"
    }
   ],
   "source": [
    "df.append(df2,ignore_index=True)"
   ]
  },
  {
   "cell_type": "code",
   "execution_count": 19,
   "id": "ff9260f8",
   "metadata": {},
   "outputs": [
    {
     "name": "stderr",
     "output_type": "stream",
     "text": [
      "C:\\Users\\Admin\\AppData\\Local\\Temp\\ipykernel_1352\\1395412685.py:1: FutureWarning: The frame.append method is deprecated and will be removed from pandas in a future version. Use pandas.concat instead.\n",
      "  df.append(df2,ignore_index=True,sort=False)\n"
     ]
    },
    {
     "data": {
      "text/html": [
       "<div>\n",
       "<style scoped>\n",
       "    .dataframe tbody tr th:only-of-type {\n",
       "        vertical-align: middle;\n",
       "    }\n",
       "\n",
       "    .dataframe tbody tr th {\n",
       "        vertical-align: top;\n",
       "    }\n",
       "\n",
       "    .dataframe thead th {\n",
       "        text-align: right;\n",
       "    }\n",
       "</style>\n",
       "<table border=\"1\" class=\"dataframe\">\n",
       "  <thead>\n",
       "    <tr style=\"text-align: right;\">\n",
       "      <th></th>\n",
       "      <th>First</th>\n",
       "      <th>Last</th>\n",
       "      <th>Age</th>\n",
       "      <th>Email</th>\n",
       "      <th>Full_Name</th>\n",
       "    </tr>\n",
       "  </thead>\n",
       "  <tbody>\n",
       "    <tr>\n",
       "      <th>0</th>\n",
       "      <td>corey</td>\n",
       "      <td>Schefer</td>\n",
       "      <td>67</td>\n",
       "      <td>coreyshefer@gmail.com</td>\n",
       "      <td>corey Schefer</td>\n",
       "    </tr>\n",
       "    <tr>\n",
       "      <th>1</th>\n",
       "      <td>jane</td>\n",
       "      <td>Fernandis</td>\n",
       "      <td>87</td>\n",
       "      <td>Janefr@gmail.com</td>\n",
       "      <td>jane Fernandis</td>\n",
       "    </tr>\n",
       "    <tr>\n",
       "      <th>2</th>\n",
       "      <td>John</td>\n",
       "      <td>Mathai</td>\n",
       "      <td>90</td>\n",
       "      <td>johnmathai@gmail.com</td>\n",
       "      <td>John Mathai</td>\n",
       "    </tr>\n",
       "    <tr>\n",
       "      <th>3</th>\n",
       "      <td>Ram</td>\n",
       "      <td>Singh</td>\n",
       "      <td>67</td>\n",
       "      <td>ram@gmail.com</td>\n",
       "      <td>NaN</td>\n",
       "    </tr>\n",
       "    <tr>\n",
       "      <th>4</th>\n",
       "      <td>janeet</td>\n",
       "      <td>Feerdaus</td>\n",
       "      <td>87</td>\n",
       "      <td>Janeeet@gmail.com</td>\n",
       "      <td>NaN</td>\n",
       "    </tr>\n",
       "    <tr>\n",
       "      <th>5</th>\n",
       "      <td>Johny</td>\n",
       "      <td>Mathaari</td>\n",
       "      <td>90</td>\n",
       "      <td>johnmathari@gmail.com</td>\n",
       "      <td>NaN</td>\n",
       "    </tr>\n",
       "  </tbody>\n",
       "</table>\n",
       "</div>"
      ],
      "text/plain": [
       "    First       Last  Age                  Email       Full_Name\n",
       "0   corey    Schefer   67  coreyshefer@gmail.com   corey Schefer\n",
       "1    jane  Fernandis   87       Janefr@gmail.com  jane Fernandis\n",
       "2    John     Mathai   90   johnmathai@gmail.com     John Mathai\n",
       "3     Ram      Singh   67          ram@gmail.com             NaN\n",
       "4  janeet   Feerdaus   87      Janeeet@gmail.com             NaN\n",
       "5   Johny   Mathaari   90  johnmathari@gmail.com             NaN"
      ]
     },
     "execution_count": 19,
     "metadata": {},
     "output_type": "execute_result"
    }
   ],
   "source": [
    "df.append(df2,ignore_index=True,sort=False)"
   ]
  },
  {
   "cell_type": "code",
   "execution_count": 20,
   "id": "33d71d05",
   "metadata": {},
   "outputs": [
    {
     "name": "stderr",
     "output_type": "stream",
     "text": [
      "C:\\Users\\Admin\\AppData\\Local\\Temp\\ipykernel_1352\\1395412685.py:1: FutureWarning: The frame.append method is deprecated and will be removed from pandas in a future version. Use pandas.concat instead.\n",
      "  df.append(df2,ignore_index=True,sort=False)\n"
     ]
    },
    {
     "data": {
      "text/html": [
       "<div>\n",
       "<style scoped>\n",
       "    .dataframe tbody tr th:only-of-type {\n",
       "        vertical-align: middle;\n",
       "    }\n",
       "\n",
       "    .dataframe tbody tr th {\n",
       "        vertical-align: top;\n",
       "    }\n",
       "\n",
       "    .dataframe thead th {\n",
       "        text-align: right;\n",
       "    }\n",
       "</style>\n",
       "<table border=\"1\" class=\"dataframe\">\n",
       "  <thead>\n",
       "    <tr style=\"text-align: right;\">\n",
       "      <th></th>\n",
       "      <th>First</th>\n",
       "      <th>Last</th>\n",
       "      <th>Age</th>\n",
       "      <th>Email</th>\n",
       "      <th>Full_Name</th>\n",
       "    </tr>\n",
       "  </thead>\n",
       "  <tbody>\n",
       "    <tr>\n",
       "      <th>0</th>\n",
       "      <td>corey</td>\n",
       "      <td>Schefer</td>\n",
       "      <td>67</td>\n",
       "      <td>coreyshefer@gmail.com</td>\n",
       "      <td>corey Schefer</td>\n",
       "    </tr>\n",
       "    <tr>\n",
       "      <th>1</th>\n",
       "      <td>jane</td>\n",
       "      <td>Fernandis</td>\n",
       "      <td>87</td>\n",
       "      <td>Janefr@gmail.com</td>\n",
       "      <td>jane Fernandis</td>\n",
       "    </tr>\n",
       "    <tr>\n",
       "      <th>2</th>\n",
       "      <td>John</td>\n",
       "      <td>Mathai</td>\n",
       "      <td>90</td>\n",
       "      <td>johnmathai@gmail.com</td>\n",
       "      <td>John Mathai</td>\n",
       "    </tr>\n",
       "    <tr>\n",
       "      <th>3</th>\n",
       "      <td>Ram</td>\n",
       "      <td>Singh</td>\n",
       "      <td>67</td>\n",
       "      <td>ram@gmail.com</td>\n",
       "      <td>NaN</td>\n",
       "    </tr>\n",
       "    <tr>\n",
       "      <th>4</th>\n",
       "      <td>janeet</td>\n",
       "      <td>Feerdaus</td>\n",
       "      <td>87</td>\n",
       "      <td>Janeeet@gmail.com</td>\n",
       "      <td>NaN</td>\n",
       "    </tr>\n",
       "    <tr>\n",
       "      <th>5</th>\n",
       "      <td>Johny</td>\n",
       "      <td>Mathaari</td>\n",
       "      <td>90</td>\n",
       "      <td>johnmathari@gmail.com</td>\n",
       "      <td>NaN</td>\n",
       "    </tr>\n",
       "  </tbody>\n",
       "</table>\n",
       "</div>"
      ],
      "text/plain": [
       "    First       Last  Age                  Email       Full_Name\n",
       "0   corey    Schefer   67  coreyshefer@gmail.com   corey Schefer\n",
       "1    jane  Fernandis   87       Janefr@gmail.com  jane Fernandis\n",
       "2    John     Mathai   90   johnmathai@gmail.com     John Mathai\n",
       "3     Ram      Singh   67          ram@gmail.com             NaN\n",
       "4  janeet   Feerdaus   87      Janeeet@gmail.com             NaN\n",
       "5   Johny   Mathaari   90  johnmathari@gmail.com             NaN"
      ]
     },
     "execution_count": 20,
     "metadata": {},
     "output_type": "execute_result"
    }
   ],
   "source": [
    "df.append(df2,ignore_index=True,sort=False)"
   ]
  },
  {
   "cell_type": "code",
   "execution_count": 21,
   "id": "b9182efc",
   "metadata": {},
   "outputs": [
    {
     "data": {
      "text/html": [
       "<div>\n",
       "<style scoped>\n",
       "    .dataframe tbody tr th:only-of-type {\n",
       "        vertical-align: middle;\n",
       "    }\n",
       "\n",
       "    .dataframe tbody tr th {\n",
       "        vertical-align: top;\n",
       "    }\n",
       "\n",
       "    .dataframe thead th {\n",
       "        text-align: right;\n",
       "    }\n",
       "</style>\n",
       "<table border=\"1\" class=\"dataframe\">\n",
       "  <thead>\n",
       "    <tr style=\"text-align: right;\">\n",
       "      <th></th>\n",
       "      <th>First</th>\n",
       "      <th>Last</th>\n",
       "      <th>Age</th>\n",
       "      <th>Email</th>\n",
       "      <th>Full_Name</th>\n",
       "    </tr>\n",
       "  </thead>\n",
       "  <tbody>\n",
       "    <tr>\n",
       "      <th>0</th>\n",
       "      <td>corey</td>\n",
       "      <td>Schefer</td>\n",
       "      <td>67</td>\n",
       "      <td>coreyshefer@gmail.com</td>\n",
       "      <td>corey Schefer</td>\n",
       "    </tr>\n",
       "    <tr>\n",
       "      <th>1</th>\n",
       "      <td>jane</td>\n",
       "      <td>Fernandis</td>\n",
       "      <td>87</td>\n",
       "      <td>Janefr@gmail.com</td>\n",
       "      <td>jane Fernandis</td>\n",
       "    </tr>\n",
       "    <tr>\n",
       "      <th>2</th>\n",
       "      <td>John</td>\n",
       "      <td>Mathai</td>\n",
       "      <td>90</td>\n",
       "      <td>johnmathai@gmail.com</td>\n",
       "      <td>John Mathai</td>\n",
       "    </tr>\n",
       "  </tbody>\n",
       "</table>\n",
       "</div>"
      ],
      "text/plain": [
       "   First       Last  Age                  Email       Full_Name\n",
       "0  corey    Schefer   67  coreyshefer@gmail.com   corey Schefer\n",
       "1   jane  Fernandis   87       Janefr@gmail.com  jane Fernandis\n",
       "2   John     Mathai   90   johnmathai@gmail.com     John Mathai"
      ]
     },
     "execution_count": 21,
     "metadata": {},
     "output_type": "execute_result"
    }
   ],
   "source": [
    "df"
   ]
  },
  {
   "cell_type": "code",
   "execution_count": 22,
   "id": "1ef7d6cc",
   "metadata": {},
   "outputs": [
    {
     "data": {
      "text/html": [
       "<div>\n",
       "<style scoped>\n",
       "    .dataframe tbody tr th:only-of-type {\n",
       "        vertical-align: middle;\n",
       "    }\n",
       "\n",
       "    .dataframe tbody tr th {\n",
       "        vertical-align: top;\n",
       "    }\n",
       "\n",
       "    .dataframe thead th {\n",
       "        text-align: right;\n",
       "    }\n",
       "</style>\n",
       "<table border=\"1\" class=\"dataframe\">\n",
       "  <thead>\n",
       "    <tr style=\"text-align: right;\">\n",
       "      <th></th>\n",
       "      <th>First</th>\n",
       "      <th>Last</th>\n",
       "      <th>Age</th>\n",
       "      <th>Email</th>\n",
       "      <th>Full_Name</th>\n",
       "    </tr>\n",
       "  </thead>\n",
       "  <tbody>\n",
       "    <tr>\n",
       "      <th>0</th>\n",
       "      <td>corey</td>\n",
       "      <td>Schefer</td>\n",
       "      <td>67</td>\n",
       "      <td>coreyshefer@gmail.com</td>\n",
       "      <td>corey Schefer</td>\n",
       "    </tr>\n",
       "    <tr>\n",
       "      <th>1</th>\n",
       "      <td>jane</td>\n",
       "      <td>Fernandis</td>\n",
       "      <td>87</td>\n",
       "      <td>Janefr@gmail.com</td>\n",
       "      <td>jane Fernandis</td>\n",
       "    </tr>\n",
       "  </tbody>\n",
       "</table>\n",
       "</div>"
      ],
      "text/plain": [
       "   First       Last  Age                  Email       Full_Name\n",
       "0  corey    Schefer   67  coreyshefer@gmail.com   corey Schefer\n",
       "1   jane  Fernandis   87       Janefr@gmail.com  jane Fernandis"
      ]
     },
     "execution_count": 22,
     "metadata": {},
     "output_type": "execute_result"
    }
   ],
   "source": [
    "df.drop(index=2)"
   ]
  },
  {
   "cell_type": "code",
   "execution_count": 23,
   "id": "e8a511e6",
   "metadata": {},
   "outputs": [
    {
     "data": {
      "text/html": [
       "<div>\n",
       "<style scoped>\n",
       "    .dataframe tbody tr th:only-of-type {\n",
       "        vertical-align: middle;\n",
       "    }\n",
       "\n",
       "    .dataframe tbody tr th {\n",
       "        vertical-align: top;\n",
       "    }\n",
       "\n",
       "    .dataframe thead th {\n",
       "        text-align: right;\n",
       "    }\n",
       "</style>\n",
       "<table border=\"1\" class=\"dataframe\">\n",
       "  <thead>\n",
       "    <tr style=\"text-align: right;\">\n",
       "      <th></th>\n",
       "      <th>First</th>\n",
       "      <th>Last</th>\n",
       "      <th>Age</th>\n",
       "      <th>Email</th>\n",
       "      <th>Full_Name</th>\n",
       "    </tr>\n",
       "  </thead>\n",
       "  <tbody>\n",
       "    <tr>\n",
       "      <th>0</th>\n",
       "      <td>corey</td>\n",
       "      <td>Schefer</td>\n",
       "      <td>67</td>\n",
       "      <td>coreyshefer@gmail.com</td>\n",
       "      <td>corey Schefer</td>\n",
       "    </tr>\n",
       "    <tr>\n",
       "      <th>1</th>\n",
       "      <td>jane</td>\n",
       "      <td>Fernandis</td>\n",
       "      <td>87</td>\n",
       "      <td>Janefr@gmail.com</td>\n",
       "      <td>jane Fernandis</td>\n",
       "    </tr>\n",
       "    <tr>\n",
       "      <th>2</th>\n",
       "      <td>John</td>\n",
       "      <td>Mathai</td>\n",
       "      <td>90</td>\n",
       "      <td>johnmathai@gmail.com</td>\n",
       "      <td>John Mathai</td>\n",
       "    </tr>\n",
       "  </tbody>\n",
       "</table>\n",
       "</div>"
      ],
      "text/plain": [
       "   First       Last  Age                  Email       Full_Name\n",
       "0  corey    Schefer   67  coreyshefer@gmail.com   corey Schefer\n",
       "1   jane  Fernandis   87       Janefr@gmail.com  jane Fernandis\n",
       "2   John     Mathai   90   johnmathai@gmail.com     John Mathai"
      ]
     },
     "execution_count": 23,
     "metadata": {},
     "output_type": "execute_result"
    }
   ],
   "source": [
    "df"
   ]
  },
  {
   "cell_type": "code",
   "execution_count": 24,
   "id": "3b2a5abf",
   "metadata": {},
   "outputs": [
    {
     "data": {
      "text/html": [
       "<div>\n",
       "<style scoped>\n",
       "    .dataframe tbody tr th:only-of-type {\n",
       "        vertical-align: middle;\n",
       "    }\n",
       "\n",
       "    .dataframe tbody tr th {\n",
       "        vertical-align: top;\n",
       "    }\n",
       "\n",
       "    .dataframe thead th {\n",
       "        text-align: right;\n",
       "    }\n",
       "</style>\n",
       "<table border=\"1\" class=\"dataframe\">\n",
       "  <thead>\n",
       "    <tr style=\"text-align: right;\">\n",
       "      <th></th>\n",
       "      <th>First</th>\n",
       "      <th>Last</th>\n",
       "      <th>Age</th>\n",
       "      <th>Email</th>\n",
       "      <th>Full_Name</th>\n",
       "    </tr>\n",
       "  </thead>\n",
       "  <tbody>\n",
       "    <tr>\n",
       "      <th>1</th>\n",
       "      <td>jane</td>\n",
       "      <td>Fernandis</td>\n",
       "      <td>87</td>\n",
       "      <td>Janefr@gmail.com</td>\n",
       "      <td>jane Fernandis</td>\n",
       "    </tr>\n",
       "    <tr>\n",
       "      <th>2</th>\n",
       "      <td>John</td>\n",
       "      <td>Mathai</td>\n",
       "      <td>90</td>\n",
       "      <td>johnmathai@gmail.com</td>\n",
       "      <td>John Mathai</td>\n",
       "    </tr>\n",
       "  </tbody>\n",
       "</table>\n",
       "</div>"
      ],
      "text/plain": [
       "  First       Last  Age                 Email       Full_Name\n",
       "1  jane  Fernandis   87      Janefr@gmail.com  jane Fernandis\n",
       "2  John     Mathai   90  johnmathai@gmail.com     John Mathai"
      ]
     },
     "execution_count": 24,
     "metadata": {},
     "output_type": "execute_result"
    }
   ],
   "source": [
    "df.drop(index=df[df[\"Last\"]==\"Schefer\"].index)"
   ]
  },
  {
   "cell_type": "code",
   "execution_count": 25,
   "id": "e0a21890",
   "metadata": {},
   "outputs": [
    {
     "name": "stderr",
     "output_type": "stream",
     "text": [
      "C:\\Users\\Admin\\AppData\\Local\\Temp\\ipykernel_1352\\1983395299.py:1: FutureWarning: The frame.append method is deprecated and will be removed from pandas in a future version. Use pandas.concat instead.\n",
      "  df3=df.append(df2,ignore_index=True,sort=False)\n"
     ]
    }
   ],
   "source": [
    "df3=df.append(df2,ignore_index=True,sort=False)"
   ]
  },
  {
   "cell_type": "code",
   "execution_count": 26,
   "id": "9ad72832",
   "metadata": {},
   "outputs": [
    {
     "data": {
      "text/html": [
       "<div>\n",
       "<style scoped>\n",
       "    .dataframe tbody tr th:only-of-type {\n",
       "        vertical-align: middle;\n",
       "    }\n",
       "\n",
       "    .dataframe tbody tr th {\n",
       "        vertical-align: top;\n",
       "    }\n",
       "\n",
       "    .dataframe thead th {\n",
       "        text-align: right;\n",
       "    }\n",
       "</style>\n",
       "<table border=\"1\" class=\"dataframe\">\n",
       "  <thead>\n",
       "    <tr style=\"text-align: right;\">\n",
       "      <th></th>\n",
       "      <th>First</th>\n",
       "      <th>Last</th>\n",
       "      <th>Age</th>\n",
       "      <th>Email</th>\n",
       "      <th>Full_Name</th>\n",
       "    </tr>\n",
       "  </thead>\n",
       "  <tbody>\n",
       "    <tr>\n",
       "      <th>0</th>\n",
       "      <td>corey</td>\n",
       "      <td>Schefer</td>\n",
       "      <td>67</td>\n",
       "      <td>coreyshefer@gmail.com</td>\n",
       "      <td>corey Schefer</td>\n",
       "    </tr>\n",
       "    <tr>\n",
       "      <th>1</th>\n",
       "      <td>jane</td>\n",
       "      <td>Fernandis</td>\n",
       "      <td>87</td>\n",
       "      <td>Janefr@gmail.com</td>\n",
       "      <td>jane Fernandis</td>\n",
       "    </tr>\n",
       "    <tr>\n",
       "      <th>2</th>\n",
       "      <td>John</td>\n",
       "      <td>Mathai</td>\n",
       "      <td>90</td>\n",
       "      <td>johnmathai@gmail.com</td>\n",
       "      <td>John Mathai</td>\n",
       "    </tr>\n",
       "    <tr>\n",
       "      <th>3</th>\n",
       "      <td>Ram</td>\n",
       "      <td>Singh</td>\n",
       "      <td>67</td>\n",
       "      <td>ram@gmail.com</td>\n",
       "      <td>NaN</td>\n",
       "    </tr>\n",
       "    <tr>\n",
       "      <th>4</th>\n",
       "      <td>janeet</td>\n",
       "      <td>Feerdaus</td>\n",
       "      <td>87</td>\n",
       "      <td>Janeeet@gmail.com</td>\n",
       "      <td>NaN</td>\n",
       "    </tr>\n",
       "    <tr>\n",
       "      <th>5</th>\n",
       "      <td>Johny</td>\n",
       "      <td>Mathaari</td>\n",
       "      <td>90</td>\n",
       "      <td>johnmathari@gmail.com</td>\n",
       "      <td>NaN</td>\n",
       "    </tr>\n",
       "  </tbody>\n",
       "</table>\n",
       "</div>"
      ],
      "text/plain": [
       "    First       Last  Age                  Email       Full_Name\n",
       "0   corey    Schefer   67  coreyshefer@gmail.com   corey Schefer\n",
       "1    jane  Fernandis   87       Janefr@gmail.com  jane Fernandis\n",
       "2    John     Mathai   90   johnmathai@gmail.com     John Mathai\n",
       "3     Ram      Singh   67          ram@gmail.com             NaN\n",
       "4  janeet   Feerdaus   87      Janeeet@gmail.com             NaN\n",
       "5   Johny   Mathaari   90  johnmathari@gmail.com             NaN"
      ]
     },
     "execution_count": 26,
     "metadata": {},
     "output_type": "execute_result"
    }
   ],
   "source": [
    "df3"
   ]
  }
 ],
 "metadata": {
  "kernelspec": {
   "display_name": "Python 3 (ipykernel)",
   "language": "python",
   "name": "python3"
  },
  "language_info": {
   "codemirror_mode": {
    "name": "ipython",
    "version": 3
   },
   "file_extension": ".py",
   "mimetype": "text/x-python",
   "name": "python",
   "nbconvert_exporter": "python",
   "pygments_lexer": "ipython3",
   "version": "3.9.13"
  }
 },
 "nbformat": 4,
 "nbformat_minor": 5
}
